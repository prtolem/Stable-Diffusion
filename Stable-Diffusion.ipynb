{
  "nbformat": 4,
  "nbformat_minor": 0,
  "metadata": {
    "colab": {
      "provenance": [],
      "authorship_tag": "ABX9TyMAUZLKYmVxWa1WP4IpY9Qz",
      "include_colab_link": true
    },
    "kernelspec": {
      "name": "python3",
      "display_name": "Python 3"
    },
    "language_info": {
      "name": "python"
    },
    "accelerator": "GPU",
    "gpuClass": "standard"
  },
  "cells": [
    {
      "cell_type": "markdown",
      "metadata": {
        "id": "view-in-github",
        "colab_type": "text"
      },
      "source": [
        "<a href=\"https://colab.research.google.com/github/prtolem/Stable-Diffusion/blob/branch/Stable-Diffusion.ipynb\" target=\"_parent\"><img src=\"https://colab.research.google.com/assets/colab-badge.svg\" alt=\"Open In Colab\"/></a>"
      ]
    },
    {
      "cell_type": "markdown",
      "source": [
        "# Install python 3.10 and make it by default"
      ],
      "metadata": {
        "id": "fKMIhIqcwtf5"
      }
    },
    {
      "cell_type": "code",
      "execution_count": null,
      "metadata": {
        "id": "zhfCtzIPUhnb"
      },
      "outputs": [],
      "source": [
        "!sudo apt-get update -y\n",
        "!sudo apt-get install python3.10\n",
        "!sudo apt-get install python3.10-venv"
      ]
    },
    {
      "cell_type": "code",
      "source": [
        "!sudo update-alternatives --install /usr/bin/python3 python3 /usr/bin/python3.8 1\n",
        "!sudo update-alternatives --install /usr/bin/python3 python3 /usr/bin/python3.10 2"
      ],
      "metadata": {
        "id": "Zd5oDBpYVsFg"
      },
      "execution_count": null,
      "outputs": []
    },
    {
      "cell_type": "markdown",
      "source": [
        "## Install github repository"
      ],
      "metadata": {
        "id": "BYJIQgrQxC1F"
      }
    },
    {
      "cell_type": "code",
      "source": [
        "!git clone https://github.com/AUTOMATIC1111/stable-diffusion-webui"
      ],
      "metadata": {
        "id": "AsR-5jsrWBUF"
      },
      "execution_count": null,
      "outputs": []
    },
    {
      "cell_type": "markdown",
      "source": [
        "# Download the model"
      ],
      "metadata": {
        "id": "qthv8xIWxLk9"
      }
    },
    {
      "cell_type": "code",
      "source": [
        "import requests\n",
        "\n",
        "def download_file(url):\n",
        "    # NOTE the stream=True parameter below\n",
        "    with requests.get(url, stream=True) as r:\n",
        "        r.raise_for_status()\n",
        "        with open('/content/stable-diffusion-webui/models/Stable-diffusion/sd-v1-5-inpainting.ckpt', 'wb') as f:\n",
        "            for chunk in r.iter_content(chunk_size=8192): \n",
        "                # If you have chunk encoded response uncomment if\n",
        "                # and set chunk_size parameter to None.\n",
        "                #if chunk: \n",
        "                f.write(chunk)\n",
        "\n",
        "download_file('https://huggingface.co/runwayml/stable-diffusion-inpainting/resolve/main/sd-v1-5-inpainting.ckpt')"
      ],
      "metadata": {
        "id": "sUve4LnsWa0a"
      },
      "execution_count": 4,
      "outputs": []
    },
    {
      "cell_type": "markdown",
      "source": [
        "# IMPORTANT!\n",
        "## Set the value to 1 on line 59 in file webui.sh"
      ],
      "metadata": {
        "id": "CD5awnTU42hk"
      }
    },
    {
      "cell_type": "markdown",
      "source": [
        "# Start the execution"
      ],
      "metadata": {
        "id": "HC2dMvTi4rj7"
      }
    },
    {
      "cell_type": "code",
      "source": [
        "!cd /content/stable-diffusion-webui && bash webui.sh --medvram --share"
      ],
      "metadata": {
        "id": "hnhl3245Zh-y"
      },
      "execution_count": null,
      "outputs": []
    }
  ]
}