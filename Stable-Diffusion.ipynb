{
  "nbformat": 4,
  "nbformat_minor": 0,
  "metadata": {
    "colab": {
      "provenance": [],
      "include_colab_link": true
    },
    "kernelspec": {
      "name": "python3",
      "display_name": "Python 3"
    },
    "language_info": {
      "name": "python"
    },
    "accelerator": "GPU",
    "gpuClass": "standard"
  },
  "cells": [
    {
      "cell_type": "markdown",
      "metadata": {
        "id": "view-in-github",
        "colab_type": "text"
      },
      "source": [
        "<a href=\"https://colab.research.google.com/github/prtolem/Stable-Diffusion/blob/branch/Stable-Diffusion.ipynb\" target=\"_parent\"><img src=\"https://colab.research.google.com/assets/colab-badge.svg\" alt=\"Open In Colab\"/></a>"
      ]
    },
    {
      "cell_type": "markdown",
      "source": [
        "# Install python 3.10 and make it by default"
      ],
      "metadata": {
        "id": "fKMIhIqcwtf5"
      }
    },
    {
      "cell_type": "code",
      "execution_count": null,
      "metadata": {
        "id": "zhfCtzIPUhnb"
      },
      "outputs": [],
      "source": [
        "!sudo apt-get update -y\n",
        "!sudo apt-get install python3.10\n",
        "!sudo apt-get install python3.10-venv"
      ]
    },
    {
      "cell_type": "code",
      "source": [
        "!sudo update-alternatives --install /usr/bin/python3 python3 /usr/bin/python3.9 1\n",
        "!sudo update-alternatives --install /usr/bin/python3 python3 /usr/bin/python3.10 2"
      ],
      "metadata": {
        "id": "Zd5oDBpYVsFg"
      },
      "execution_count": null,
      "outputs": []
    },
    {
      "cell_type": "markdown",
      "source": [
        "# Install github repository"
      ],
      "metadata": {
        "id": "BYJIQgrQxC1F"
      }
    },
    {
      "cell_type": "code",
      "source": [
        "!git clone https://github.com/AUTOMATIC1111/stable-diffusion-webui"
      ],
      "metadata": {
        "id": "AsR-5jsrWBUF"
      },
      "execution_count": null,
      "outputs": []
    },
    {
      "cell_type": "markdown",
      "source": [
        "# Download the model"
      ],
      "metadata": {
        "id": "qthv8xIWxLk9"
      }
    },
    {
      "cell_type": "code",
      "source": [
        "import requests\n",
        "\n",
        "def download_file(url):\n",
        "    # NOTE the stream=True parameter below\n",
        "    with requests.get(url, stream=True) as r:\n",
        "        r.raise_for_status()\n",
        "        with open('/content/stable-diffusion-webui/models/Stable-diffusion/sd-v1-5-inpainting.ckpt', 'wb') as f:\n",
        "            for chunk in r.iter_content(chunk_size=8192): \n",
        "                # If you have chunk encoded response uncomment if\n",
        "                # and set chunk_size parameter to None.\n",
        "                #if chunk: \n",
        "                f.write(chunk)\n",
        "\n",
        "download_file('https://huggingface.co/runwayml/stable-diffusion-inpainting/resolve/main/sd-v1-5-inpainting.ckpt')"
      ],
      "metadata": {
        "id": "sUve4LnsWa0a"
      },
      "execution_count": 4,
      "outputs": []
    },
    {
      "cell_type": "markdown",
      "source": [
        "# Setting the value of a variable"
      ],
      "metadata": {
        "id": "ZQtrpTp1U4Ld"
      }
    },
    {
      "cell_type": "code",
      "source": [
        "old_file = open('/content/stable-diffusion-webui/webui.sh', 'r')\n",
        "raw = old_file.read()\n",
        "old_file.close()\n",
        "save_new = open('/content/stable-diffusion-webui/webui.sh', 'w')\n",
        "save_new.write(raw.replace('can_run_as_root=0', 'can_run_as_root=1'))\n",
        "save_new.close()"
      ],
      "metadata": {
        "id": "RdzXCwGMReDA"
      },
      "execution_count": 12,
      "outputs": []
    },
    {
      "cell_type": "markdown",
      "source": [
        "# Start the execution"
      ],
      "metadata": {
        "id": "HC2dMvTi4rj7"
      }
    },
    {
      "cell_type": "code",
      "source": [
        "!cd /content/stable-diffusion-webui && bash webui.sh --medvram --share"
      ],
      "metadata": {
        "id": "hnhl3245Zh-y"
      },
      "execution_count": null,
      "outputs": []
    }
  ]
}